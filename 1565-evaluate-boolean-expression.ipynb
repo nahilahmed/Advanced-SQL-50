{
 "cells": [
  {
   "cell_type": "markdown",
   "metadata": {},
   "source": [
    "<h2><a href=\"https://leetcode.com/problems/evaluate-boolean-expression\">1565. Evaluate Boolean Expression</a></h2><h3>Medium</h3><hr><p>Table <code>Variables</code>:</p>\n",
    "\n",
    "<pre>\n",
    "+---------------+---------+\n",
    "| Column Name   | Type    |\n",
    "+---------------+---------+\n",
    "| name          | varchar |\n",
    "| value         | int     |\n",
    "+---------------+---------+\n",
    "In SQL, name is the primary key for this table.\n",
    "This table contains the stored variables and their values.\n",
    "</pre>\n",
    "\n",
    "<p>&nbsp;</p>\n",
    "\n",
    "<p>Table <code>Expressions</code>:</p>\n",
    "\n",
    "<pre>\n",
    "+---------------+---------+\n",
    "| Column Name   | Type    |\n",
    "+---------------+---------+\n",
    "| left_operand  | varchar |\n",
    "| operator      | enum    |\n",
    "| right_operand | varchar |\n",
    "+---------------+---------+\n",
    "In SQL, (left_operand, operator, right_operand) is the primary key for this table.\n",
    "This table contains a boolean expression that should be evaluated.\n",
    "operator is an enum that takes one of the values (&#39;&lt;&#39;, &#39;&gt;&#39;, &#39;=&#39;)\n",
    "The values of left_operand and right_operand are guaranteed to be in the Variables table.\n",
    "</pre>\n",
    "\n",
    "<p>&nbsp;</p>\n",
    "\n",
    "<p>Evaluate the boolean expressions in <code>Expressions</code> table.</p>\n",
    "\n",
    "<p>Return the result table in <strong>any order</strong>.</p>\n",
    "\n",
    "<p>The result format is in the following example.</p>\n",
    "\n",
    "<p>&nbsp;</p>\n",
    "<p><strong class=\"example\">Example 1:</strong></p>\n",
    "\n",
    "<pre>\n",
    "<strong>Input:</strong> \n",
    "Variables table:\n",
    "+------+-------+\n",
    "| name | value |\n",
    "+------+-------+\n",
    "| x    | 66    |\n",
    "| y    | 77    |\n",
    "+------+-------+\n",
    "Expressions table:\n",
    "+--------------+----------+---------------+\n",
    "| left_operand | operator | right_operand |\n",
    "+--------------+----------+---------------+\n",
    "| x            | &gt;        | y             |\n",
    "| x            | &lt;        | y             |\n",
    "| x            | =        | y             |\n",
    "| y            | &gt;        | x             |\n",
    "| y            | &lt;        | x             |\n",
    "| x            | =        | x             |\n",
    "+--------------+----------+---------------+\n",
    "<strong>Output:</strong> \n",
    "+--------------+----------+---------------+-------+\n",
    "| left_operand | operator | right_operand | value |\n",
    "+--------------+----------+---------------+-------+\n",
    "| x            | &gt;        | y             | false |\n",
    "| x            | &lt;        | y             | true  |\n",
    "| x            | =        | y             | false |\n",
    "| y            | &gt;        | x             | true  |\n",
    "| y            | &lt;        | x             | false |\n",
    "| x            | =        | x             | true  |\n",
    "+--------------+----------+---------------+-------+\n",
    "<strong>Explanation:</strong> \n",
    "As shown, you need to find the value of each boolean expression in the table using the variables table.\n",
    "</pre>"
   ]
  },
  {
   "cell_type": "code",
   "execution_count": 1,
   "metadata": {},
   "outputs": [
    {
     "name": "stderr",
     "output_type": "stream",
     "text": [
      "25/02/19 08:44:08 WARN Utils: Your hostname, Nahils-MacBook-Air.local resolves to a loopback address: 127.0.0.1; using 192.168.0.103 instead (on interface en0)\n",
      "25/02/19 08:44:08 WARN Utils: Set SPARK_LOCAL_IP if you need to bind to another address\n",
      "Setting default log level to \"WARN\".\n",
      "To adjust logging level use sc.setLogLevel(newLevel). For SparkR, use setLogLevel(newLevel).\n",
      "25/02/19 08:44:08 WARN NativeCodeLoader: Unable to load native-hadoop library for your platform... using builtin-java classes where applicable\n"
     ]
    },
    {
     "name": "stdout",
     "output_type": "stream",
     "text": [
      "Variables DataFrame:\n"
     ]
    },
    {
     "name": "stderr",
     "output_type": "stream",
     "text": [
      "                                                                                \r"
     ]
    },
    {
     "name": "stdout",
     "output_type": "stream",
     "text": [
      "+----+-----+\n",
      "|name|value|\n",
      "+----+-----+\n",
      "|   x|   66|\n",
      "|   y|   77|\n",
      "+----+-----+\n",
      "\n",
      "Expressions DataFrame:\n",
      "+------------+--------+-------------+\n",
      "|left_operand|operator|right_operand|\n",
      "+------------+--------+-------------+\n",
      "|           x|       >|            y|\n",
      "|           x|       <|            y|\n",
      "|           x|       =|            y|\n",
      "|           y|       >|            x|\n",
      "|           y|       <|            x|\n",
      "|           x|       =|            x|\n",
      "+------------+--------+-------------+\n",
      "\n"
     ]
    }
   ],
   "source": [
    "from pyspark.sql import SparkSession\n",
    "\n",
    "# Initialize Spark session\n",
    "spark = SparkSession.builder.appName(\"EvaluateBooleanExpression\").getOrCreate()\n",
    "\n",
    "# Hardcoded Variables DataFrame\n",
    "variables_data = [\n",
    "    (\"x\", 66),\n",
    "    (\"y\", 77)\n",
    "]\n",
    "\n",
    "variables_columns = [\"name\", \"value\"]\n",
    "\n",
    "variables_df = spark.createDataFrame(variables_data, variables_columns)\n",
    "\n",
    "# Hardcoded Expressions DataFrame\n",
    "expressions_data = [\n",
    "    (\"x\", \">\", \"y\"),\n",
    "    (\"x\", \"<\", \"y\"),\n",
    "    (\"x\", \"=\", \"y\"),\n",
    "    (\"y\", \">\", \"x\"),\n",
    "    (\"y\", \"<\", \"x\"),\n",
    "    (\"x\", \"=\", \"x\")\n",
    "]\n",
    "\n",
    "expressions_columns = [\"left_operand\", \"operator\", \"right_operand\"]\n",
    "\n",
    "expressions_df = spark.createDataFrame(expressions_data, expressions_columns)\n",
    "\n",
    "# Show the DataFrames\n",
    "print(\"Variables DataFrame:\")\n",
    "variables_df.show()\n",
    "\n",
    "print(\"Expressions DataFrame:\")\n",
    "expressions_df.show()"
   ]
  },
  {
   "cell_type": "code",
   "execution_count": 2,
   "metadata": {},
   "outputs": [],
   "source": [
    "# Create views for both DataFrames\n",
    "variables_df.createOrReplaceTempView(\"Variables\")\n",
    "expressions_df.createOrReplaceTempView(\"Expressions\")"
   ]
  },
  {
   "cell_type": "code",
   "execution_count": 7,
   "metadata": {
    "vscode": {
     "languageId": "ruby"
    }
   },
   "outputs": [
    {
     "name": "stdout",
     "output_type": "stream",
     "text": [
      "+------------+--------+-------------+------+\n",
      "|left_operand|operator|right_operand|result|\n",
      "+------------+--------+-------------+------+\n",
      "|           y|       <|            x| false|\n",
      "|           y|       >|            x|  true|\n",
      "|           x|       =|            x|  true|\n",
      "|           x|       =|            y| false|\n",
      "|           x|       <|            y|  true|\n",
      "|           x|       >|            y| false|\n",
      "+------------+--------+-------------+------+\n",
      "\n"
     ]
    }
   ],
   "source": [
    "result_df = spark.sql(\"\"\"\n",
    "-- Write your SQL query here\n",
    "    SELECT e.left_operand,\n",
    "           operator,\n",
    "           e.right_operand,\n",
    "           CASE\n",
    "            WHEN operator = '<' THEN (v1.value < v2.value)\n",
    "            WHEN operator = '>' THEN (v1.value > v2.value)\n",
    "            WHEN operator = '=' THEN (v1.value = v2.value)\n",
    "           END as result  \n",
    "    FROM Expressions e\n",
    "    INNER JOIN Variables v1 on v1.name = e.left_operand\n",
    "    INNER JOIN Variables v2 on v2.name = e.right_operand\n",
    "\"\"\")\n",
    "\n",
    "result_df.show()"
   ]
  },
  {
   "cell_type": "code",
   "execution_count": 8,
   "metadata": {
    "vscode": {
     "languageId": "ruby"
    }
   },
   "outputs": [],
   "source": [
    "spark.stop()"
   ]
  }
 ],
 "metadata": {
  "kernelspec": {
   "display_name": "venv",
   "language": "python",
   "name": "python3"
  },
  "language_info": {
   "codemirror_mode": {
    "name": "ipython",
    "version": 3
   },
   "file_extension": ".py",
   "mimetype": "text/x-python",
   "name": "python",
   "nbconvert_exporter": "python",
   "pygments_lexer": "ipython3",
   "version": "3.13.0"
  }
 },
 "nbformat": 4,
 "nbformat_minor": 2
}
