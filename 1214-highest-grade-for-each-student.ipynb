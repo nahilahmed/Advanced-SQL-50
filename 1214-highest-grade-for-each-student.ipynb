{
 "cells": [
  {
   "cell_type": "markdown",
   "metadata": {},
   "source": [
    "<h2><a href=\"https://leetcode.com/problems/highest-grade-for-each-student\">1214. Highest Grade For Each Student</a></h2><h3>Medium</h3><hr><p>Table: <code>Enrollments</code></p>\n",
    "\n",
    "<pre>\n",
    "+---------------+---------+\n",
    "| Column Name   | Type    |\n",
    "+---------------+---------+\n",
    "| student_id    | int     |\n",
    "| course_id     | int     |\n",
    "| grade         | int     |\n",
    "+---------------+---------+\n",
    "(student_id, course_id) is the primary key (combination of columns with unique values) of this table.\n",
    "grade is never NULL.\n",
    "</pre>\n",
    "\n",
    "<p>&nbsp;</p>\n",
    "\n",
    "<p>Write a solution to find the highest grade with its corresponding course for each student. In case of a tie, you should find the course with the smallest <code>course_id</code>.</p>\n",
    "\n",
    "<p>Return the result table ordered by <code>student_id</code> in <strong>ascending order</strong>.</p>\n",
    "\n",
    "<p>The&nbsp;result format is in the following example.</p>\n",
    "\n",
    "<p>&nbsp;</p>\n",
    "<p><strong class=\"example\">Example 1:</strong></p>\n",
    "\n",
    "<pre>\n",
    "<strong>Input:</strong> \n",
    "Enrollments table:\n",
    "+------------+-------------------+\n",
    "| student_id | course_id | grade |\n",
    "+------------+-----------+-------+\n",
    "| 2          | 2         | 95    |\n",
    "| 2          | 3         | 95    |\n",
    "| 1          | 1         | 90    |\n",
    "| 1          | 2         | 99    |\n",
    "| 3          | 1         | 80    |\n",
    "| 3          | 2         | 75    |\n",
    "| 3          | 3         | 82    |\n",
    "+------------+-----------+-------+\n",
    "<strong>Output:</strong> \n",
    "+------------+-------------------+\n",
    "| student_id | course_id | grade |\n",
    "+------------+-----------+-------+\n",
    "| 1          | 2         | 99    |\n",
    "| 2          | 2         | 95    |\n",
    "| 3          | 3         | 82    |\n",
    "+------------+-----------+-------+\n",
    "</pre>"
   ]
  },
  {
   "cell_type": "code",
   "execution_count": 1,
   "metadata": {},
   "outputs": [
    {
     "name": "stderr",
     "output_type": "stream",
     "text": [
      "25/02/19 08:32:54 WARN Utils: Your hostname, Nahils-MacBook-Air.local resolves to a loopback address: 127.0.0.1; using 192.168.0.103 instead (on interface en0)\n",
      "25/02/19 08:32:54 WARN Utils: Set SPARK_LOCAL_IP if you need to bind to another address\n",
      "Setting default log level to \"WARN\".\n",
      "To adjust logging level use sc.setLogLevel(newLevel). For SparkR, use setLogLevel(newLevel).\n",
      "25/02/19 08:32:55 WARN NativeCodeLoader: Unable to load native-hadoop library for your platform... using builtin-java classes where applicable\n"
     ]
    }
   ],
   "source": [
    "from pyspark.sql import SparkSession\n",
    "from pyspark.sql.functions import col, max, row_number\n",
    "from pyspark.sql.window import Window\n",
    "\n",
    "# Initialize Spark session\n",
    "spark = SparkSession.builder.appName(\"HighestGradePerStudent\").getOrCreate()\n",
    "\n",
    "# Hardcoded DataFrame\n",
    "data = [\n",
    "    (2, 2, 95),\n",
    "    (2, 3, 95),\n",
    "    (1, 1, 90),\n",
    "    (1, 2, 99),\n",
    "    (3, 1, 80),\n",
    "    (3, 2, 75),\n",
    "    (3, 3, 82)\n",
    "]\n",
    "\n",
    "columns = [\"student_id\", \"course_id\", \"grade\"]\n",
    "\n",
    "df = spark.createDataFrame(data, columns)"
   ]
  },
  {
   "cell_type": "code",
   "execution_count": 2,
   "metadata": {},
   "outputs": [],
   "source": [
    "df.createOrReplaceTempView('Enrollments')"
   ]
  },
  {
   "cell_type": "code",
   "execution_count": 6,
   "metadata": {},
   "outputs": [
    {
     "name": "stdout",
     "output_type": "stream",
     "text": [
      "+----------+---------+-----+--------+\n",
      "|student_id|course_id|grade|grade_rn|\n",
      "+----------+---------+-----+--------+\n",
      "|         1|        2|   99|       1|\n",
      "|         2|        2|   95|       1|\n",
      "|         3|        3|   82|       1|\n",
      "+----------+---------+-----+--------+\n",
      "\n"
     ]
    }
   ],
   "source": [
    "spark.sql(\"\"\"\n",
    "    SELECT *\n",
    "    FROM      \n",
    "        (SELECT *,\n",
    "          RANK() OVER (PARTITION BY student_id ORDER BY grade DESC, course_id ASC) as grade_rn\n",
    "          FROM Enrollments\n",
    "        ) Temp\n",
    "    WHERE grade_rn = 1  \n",
    "          \n",
    "\"\"\").show()"
   ]
  },
  {
   "cell_type": "code",
   "execution_count": 7,
   "metadata": {},
   "outputs": [],
   "source": [
    "spark.stop()"
   ]
  }
 ],
 "metadata": {
  "kernelspec": {
   "display_name": "venv",
   "language": "python",
   "name": "python3"
  },
  "language_info": {
   "codemirror_mode": {
    "name": "ipython",
    "version": 3
   },
   "file_extension": ".py",
   "mimetype": "text/x-python",
   "name": "python",
   "nbconvert_exporter": "python",
   "pygments_lexer": "ipython3",
   "version": "3.13.0"
  }
 },
 "nbformat": 4,
 "nbformat_minor": 2
}
