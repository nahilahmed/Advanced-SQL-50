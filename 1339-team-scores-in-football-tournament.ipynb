{
 "cells": [
  {
   "cell_type": "code",
   "execution_count": 1,
   "metadata": {},
   "outputs": [
    {
     "name": "stderr",
     "output_type": "stream",
     "text": [
      "25/02/16 23:08:43 WARN Utils: Your hostname, Nahils-MacBook-Air.local resolves to a loopback address: 127.0.0.1; using 192.168.0.103 instead (on interface en0)\n",
      "25/02/16 23:08:43 WARN Utils: Set SPARK_LOCAL_IP if you need to bind to another address\n",
      "Setting default log level to \"WARN\".\n",
      "To adjust logging level use sc.setLogLevel(newLevel). For SparkR, use setLogLevel(newLevel).\n",
      "25/02/16 23:08:43 WARN NativeCodeLoader: Unable to load native-hadoop library for your platform... using builtin-java classes where applicable\n"
     ]
    },
    {
     "name": "stdout",
     "output_type": "stream",
     "text": [
      "Teams Table:\n"
     ]
    },
    {
     "name": "stderr",
     "output_type": "stream",
     "text": [
      "                                                                                \r"
     ]
    },
    {
     "name": "stdout",
     "output_type": "stream",
     "text": [
      "+-------+-----------+\n",
      "|team_id|  team_name|\n",
      "+-------+-----------+\n",
      "|     10|Leetcode FC|\n",
      "|     20| NewYork FC|\n",
      "|     30| Atlanta FC|\n",
      "|     40| Chicago FC|\n",
      "|     50| Toronto FC|\n",
      "+-------+-----------+\n",
      "\n",
      "Matches Table:\n",
      "+--------+---------+----------+----------+-----------+\n",
      "|match_id|host_team|guest_team|host_goals|guest_goals|\n",
      "+--------+---------+----------+----------+-----------+\n",
      "|       1|       10|        20|         3|          0|\n",
      "|       2|       30|        10|         2|          2|\n",
      "|       3|       10|        50|         5|          1|\n",
      "|       4|       20|        30|         1|          0|\n",
      "|       5|       50|        30|         1|          0|\n",
      "+--------+---------+----------+----------+-----------+\n",
      "\n"
     ]
    }
   ],
   "source": [
    "from pyspark.sql import SparkSession\n",
    "from pyspark.sql.types import StructType, StructField, IntegerType, StringType\n",
    "from pyspark.sql.functions import col, when, sum\n",
    "\n",
    "# Initialize Spark Session\n",
    "spark = SparkSession.builder.master(\"local\").appName(\"FootballTournament\").getOrCreate()\n",
    "\n",
    "# Define Schema for Teams Table\n",
    "teams_schema = StructType([\n",
    "    StructField(\"team_id\", IntegerType(), False),\n",
    "    StructField(\"team_name\", StringType(), False)\n",
    "])\n",
    "\n",
    "# Define Schema for Matches Table\n",
    "matches_schema = StructType([\n",
    "    StructField(\"match_id\", IntegerType(), False),\n",
    "    StructField(\"host_team\", IntegerType(), False),\n",
    "    StructField(\"guest_team\", IntegerType(), False),\n",
    "    StructField(\"host_goals\", IntegerType(), False),\n",
    "    StructField(\"guest_goals\", IntegerType(), False)\n",
    "])\n",
    "\n",
    "# Hardcoded Teams Data\n",
    "teams_data = [\n",
    "    (10, \"Leetcode FC\"),\n",
    "    (20, \"NewYork FC\"),\n",
    "    (30, \"Atlanta FC\"),\n",
    "    (40, \"Chicago FC\"),\n",
    "    (50, \"Toronto FC\")\n",
    "]\n",
    "\n",
    "# Hardcoded Matches Data\n",
    "matches_data = [\n",
    "    (1, 10, 20, 3, 0),\n",
    "    (2, 30, 10, 2, 2),\n",
    "    (3, 10, 50, 5, 1),\n",
    "    (4, 20, 30, 1, 0),\n",
    "    (5, 50, 30, 1, 0)\n",
    "]\n",
    "\n",
    "# Create DataFrames\n",
    "teams_df = spark.createDataFrame(teams_data, schema=teams_schema)\n",
    "matches_df = spark.createDataFrame(matches_data, schema=matches_schema)\n",
    "\n",
    "# Display DataFrames\n",
    "print(\"Teams Table:\")\n",
    "teams_df.show()\n",
    "\n",
    "print(\"Matches Table:\")\n",
    "matches_df.show()"
   ]
  },
  {
   "cell_type": "code",
   "execution_count": 2,
   "metadata": {},
   "outputs": [],
   "source": [
    "# Create views for the dataframes\n",
    "teams_df.createOrReplaceTempView(\"teams_view\")\n",
    "matches_df.createOrReplaceTempView(\"matches_view\")"
   ]
  },
  {
   "cell_type": "code",
   "execution_count": 3,
   "metadata": {},
   "outputs": [
    {
     "name": "stdout",
     "output_type": "stream",
     "text": [
      "+-------+-------+\n",
      "|team_id|num_pts|\n",
      "+-------+-------+\n",
      "|     10|      7|\n",
      "|     20|      3|\n",
      "|     50|      3|\n",
      "|     30|      1|\n",
      "+-------+-------+\n",
      "\n"
     ]
    }
   ],
   "source": [
    "spark.sql(\"\"\"\n",
    "    WITH match_pts_calculated AS (\n",
    "            SELECT *,\n",
    "                CASE\n",
    "                    WHEN host_goals > guest_goals THEN 'host win'\n",
    "                    WHEN host_goals < guest_goals THEN 'guest win'\n",
    "                    ELSE 'draw'\n",
    "                END as result,\n",
    "                CASE\n",
    "                    WHEN host_goals > guest_goals THEN 3\n",
    "                    WHEN host_goals < guest_goals THEN 0\n",
    "                    ELSE 1\n",
    "                END as host_pts,\n",
    "                CASE\n",
    "                    WHEN guest_goals > host_goals THEN 3\n",
    "                    WHEN guest_goals < host_goals THEN 0\n",
    "                    ELSE 1\n",
    "                END as guest_pts\n",
    "            FROM matches_view\n",
    "          ),\n",
    "    \n",
    "    pts_calculated AS (\n",
    "                SELECT host_team as team,\n",
    "                        SUM(host_pts) as pts\n",
    "                FROM match_pts_calculated\n",
    "                GROUP BY host_team\n",
    "                UNION\n",
    "                SELECT guest_team as team,\n",
    "                        SUM(guest_pts) as pts\n",
    "                FROM match_pts_calculated\n",
    "                GROUP BY guest_team\n",
    "          )\n",
    "\n",
    "    SELECT team as team_id, SUM(pts) as num_pts\n",
    "    FROM pts_calculated\n",
    "    GROUP BY team\n",
    "    ORDER BY num_pts DESC\n",
    "\"\"\").show()"
   ]
  },
  {
   "cell_type": "code",
   "execution_count": 1,
   "metadata": {},
   "outputs": [
    {
     "ename": "NameError",
     "evalue": "name 'spark' is not defined",
     "output_type": "error",
     "traceback": [
      "\u001b[0;31m---------------------------------------------------------------------------\u001b[0m",
      "\u001b[0;31mNameError\u001b[0m                                 Traceback (most recent call last)",
      "Cell \u001b[0;32mIn[1], line 1\u001b[0m\n\u001b[0;32m----> 1\u001b[0m \u001b[43mspark\u001b[49m\u001b[38;5;241m.\u001b[39mstop()\n",
      "\u001b[0;31mNameError\u001b[0m: name 'spark' is not defined"
     ]
    }
   ],
   "source": [
    "spark.stop()"
   ]
  }
 ],
 "metadata": {
  "kernelspec": {
   "display_name": "venv",
   "language": "python",
   "name": "python3"
  },
  "language_info": {
   "codemirror_mode": {
    "name": "ipython",
    "version": 3
   },
   "file_extension": ".py",
   "mimetype": "text/x-python",
   "name": "python",
   "nbconvert_exporter": "python",
   "pygments_lexer": "ipython3",
   "version": "3.13.0"
  }
 },
 "nbformat": 4,
 "nbformat_minor": 2
}
